{
 "cells": [
  {
   "cell_type": "markdown",
   "id": "adcb88de",
   "metadata": {},
   "source": [
    "# pvanalysis\n",
    "\n",
    "The `pvanalysis` package of `SLAM` is a tool to identify Keplerian disks in protostellar systems using position-velocity (PV) diagrams and estimate the dynamical mass of protostars if disks are present. This tool basically consists of two steps: `get_edgeridge`, which determines edge/ridge points that trace rotation curve features of PV diagrams, and `fit_edgeridge`, which performs the power-law fitting with the obtained edge/ridge points. In this note, we will briefly present how to use this tool."
   ]
  },
  {
   "cell_type": "code",
   "execution_count": null,
   "id": "fc992ae5",
   "metadata": {},
   "outputs": [],
   "source": [
    "import numpy as np\n",
    "# if you need to set a path\n",
    "import sys\n",
    "sys.path.append('D:\\L1489_IRS_ssp\\SLAM') # add PATH to SLAM\n",
    "\n",
    "from pvanalysis import PVAnalysis\n",
    "import matplotlib.pyplot as plt"
   ]
  },
  {
   "cell_type": "code",
   "execution_count": null,
   "id": "57aeeadf",
   "metadata": {},
   "outputs": [],
   "source": [
    "#%matplotlib widget"
   ]
  },
  {
   "cell_type": "markdown",
   "id": "064afb5a",
   "metadata": {},
   "source": [
    "## Basic usage B6\n",
    "\n",
    "Here is an example only with the most basic input parameters to deomnstrate the simplest usage. The first step of `pvanalysis` is to extract edge/ridge points from a PV diagram."
   ]
  },
  {
   "cell_type": "code",
   "execution_count": null,
   "id": "cc9732f1",
   "metadata": {},
   "outputs": [],
   "source": [
    "# -------- INPUTS --------\n",
    "fitsfile = \"PV_diskmodels\\l1489irs_i_73.0_pa_0.0_vsys_7.37_kepler_Irp_-1__with_beam_conv_upd_hdr_res_0.01_pv.fits\"\n",
    "outname = \"PV_diskmodels\\SLAMfits\\l1489irs_i_73.0_pa_0.0_vsys_7.37_kepler_Irp_-1__with_beam_conv_upd_hdr_res_0.01\"  # file name header for outputs\n",
    "incl = 73.  # inclunation angle (deg)\n",
    "vsys = 7.37  # systemic velocity (km/s)\n",
    "dist = 140.  # distance to the object (pc)\n",
    "rms = 6.92e-12  # rms noise level (Jy/beam)\n",
    "thr = 5.  # threshold for noise cut-off for edge/ridge calculations (rms)\n",
    "# -------------------------\n",
    "\n",
    "\n",
    "# read PV diagram\n",
    "# give rms, vsys, distance, and inclination angle\n",
    "impv = PVAnalysis(fitsfile, rms, vsys, dist, incl=incl, pa=0.)\n",
    "# get edge/ridge points\n",
    "impv.get_edgeridge(outname, thr=thr, xlim=[-1000.,0,0,1000.], ridgemode='gauss', pixrng_vcut=3)\n",
    "impv.write_edgeridge(outname=outname)"
   ]
  },
  {
   "cell_type": "code",
   "execution_count": null,
   "id": "de5b3424",
   "metadata": {},
   "outputs": [],
   "source": [
    "# power law fitting\n",
    "# --------- input parameters ----------\n",
    "include_vsys = True  # vsys offset. False means vsys=0.\n",
    "include_dp = False  # False means a single power\n",
    "include_pin = True # False means pin=0.5 (Keplerian).\n",
    "fixed_pin = 0.5  # Set the fixed pin value when include_pin is False.\n",
    "fixed_dp = 0.0  # Set the fixed dp value when include_dp is False.\n",
    "show_corner = True # if show corner plots or not\n",
    "# -------------------------------------\n",
    "impv.fit_edgeridge(include_vsys=include_vsys,\n",
    "                   include_dp=include_dp,\n",
    "                   include_pin=include_pin,\n",
    "                   fixed_pin=fixed_pin, fixed_dp=fixed_dp,\n",
    "                   outname=outname, rangelevel=0.8,\n",
    "                   show_corner=show_corner)\n",
    "impv.output_fitresult()\n"
   ]
  },
  {
   "cell_type": "code",
   "execution_count": null,
   "id": "38ab5847",
   "metadata": {},
   "outputs": [],
   "source": [
    "# For ridge\n",
    "\n",
    "V_b, V_b_err = 2.339, 0.000\n",
    "R_b, R_b_err = 195.11 , 1.48\n",
    "V_sys, V_sys_err = 7.359, 0.004\n",
    "p = 0.440 \n",
    "perr = 0.003\n",
    "\n",
    "\n",
    "\n",
    "# Find scaling constant V100 (V at r = 100) using Vb, Rb... equate V_b(r/Rb)**-0.5 with V_100(r/100)**-0.5 \n",
    "\n",
    "V_100 = V_b*np.power(R_b/100, p)\n",
    "\n",
    "# Calculate the partial derivatives\n",
    "dv_dvb = (100 / R_b)**p\n",
    "dv_drb = -V_b * p * (100 / R_b)**p * (1 / R_b)\n",
    "dv_dp = V_b * (100 / R_b)**p * np.log(100 / R_b)\n",
    "\n",
    "# Calculate the propagated error using the partial derivatives\n",
    "sigma_v = np.sqrt((dv_dvb * V_b_err)**2 + (dv_drb * R_b_err)**2 + (dv_dp * perr)**2)\n",
    "\n",
    "\n",
    "print(round(V_100,3))\n",
    "print(round(sigma_v,3))"
   ]
  },
  {
   "cell_type": "markdown",
   "id": "fb294887",
   "metadata": {},
   "source": [
    "The input parameters set free parameters and which model function (single or double power-law) is adopted. In the above case, the fitting model is a double-power law function with a fixed inner power-law index ($p_\\mathrm{in}=0.5$). The fitting searches the best break point ($R_\\mathrm{b}$, $V_\\mathrm{b}$), where the power-law index changes, and $dp$, which is deviation of the outer power-law index from the innder one. The dynamical mass ($M_\\mathrm{b}$) is estimated from the set of ($R_\\mathrm{b}$, $V_\\mathrm{b}$) and a given inclination angle assuming a Keplerian rotation.\n",
    "\n",
    "The edge/ridge points and the best-fit functions can be visualized as follows."
   ]
  },
  {
   "cell_type": "code",
   "execution_count": null,
   "id": "45eb67dc",
   "metadata": {},
   "outputs": [],
   "source": [
    "# plot results\n",
    "impv.plot_fitresult(outname=outname, clevels=[-3,3,6,9],\n",
    "                    vlim=[1.e-10,15.],\n",
    "                    Tbcolor=True,\n",
    "                    kwargs_pcolormesh={'cmap':'viridis'},\n",
    "                    kwargs_contour={'colors':'lime'},                                                                                                                                                                                                                                                                                                                                                                                                                                                                                                                                                                                                                                                                                                                                                                                                                                                                                                                                                                                                                                                                                                                                                                                                                                                 \n",
    "                    fmt={'edge':'v', 'ridge':'o'},\n",
    "                    linestyle={'edge':'--', 'ridge':'-'})"
   ]
  }
 ],
 "metadata": {
  "kernelspec": {
   "display_name": "Python 3 (ipykernel)",
   "language": "python",
   "name": "python3"
  },
  "language_info": {
   "codemirror_mode": {
    "name": "ipython",
    "version": 3
   },
   "file_extension": ".py",
   "mimetype": "text/x-python",
   "name": "python",
   "nbconvert_exporter": "python",
   "pygments_lexer": "ipython3",
   "version": "3.11.4"
  }
 },
 "nbformat": 4,
 "nbformat_minor": 5
}
